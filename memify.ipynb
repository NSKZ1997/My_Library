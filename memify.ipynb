{
 "cells": [
  {
   "cell_type": "code",
   "execution_count": null,
   "metadata": {},
   "outputs": [],
   "source": [
    "import random\n",
    "def memify(input_string):\n",
    "    result = ''\n",
    "    length = len(input_string) - len('...ok Boomer.')\n",
    "    for i in input_string[0:length]:\n",
    "        var = random.randint(0, 1)\n",
    "        if var == 1:\n",
    "            i = i.upper()\n",
    "        else:\n",
    "            i = i.lower()\n",
    "        result += i\n",
    "    result = result + '...ok Boomer.'\n",
    "    return result\n",
    "\n",
    "print(memify(\"I think the issue is more that peoples' approaches to creating gods and religion are similar to their approaches to making spaceships, tanks and weapons. Basically, they make a lot of stuff that's superficially cool, but it doesn't actually connect to anything in a meaningful way.\"))\n",
    "    "
   ]
  }
 ],
 "metadata": {
  "kernelspec": {
   "display_name": "Python 3",
   "language": "python",
   "name": "python3"
  },
  "language_info": {
   "codemirror_mode": {
    "name": "ipython",
    "version": 3
   },
   "file_extension": ".py",
   "mimetype": "text/x-python",
   "name": "python",
   "nbconvert_exporter": "python",
   "pygments_lexer": "ipython3",
   "version": "3.7.6"
  }
 },
 "nbformat": 4,
 "nbformat_minor": 4
}
